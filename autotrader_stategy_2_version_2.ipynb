{
 "cells": [
  {
   "cell_type": "code",
   "execution_count": 1,
   "metadata": {},
   "outputs": [],
   "source": [
    "!pip install python-binance\n",
    "!pip install matplotlib --upgrade\n",
    "!pip install catboost\n",
    "#!pip install --upgrade mplfinance  \n",
    "!pip install ta\n",
    "!pip install sqlalchemy"
   ]
  },
  {
   "cell_type": "code",
   "execution_count": 2,
   "metadata": {},
   "outputs": [],
   "source": [
    "import numpy as np\n",
    "import pandas as pd\n",
    "\n",
    "import time\n",
    "import dateparser\n",
    "import pytz\n",
    "import json\n",
    "import math  \n",
    "\n",
    "import datetime as dt\n",
    "from datetime import datetime, timedelta\n",
    "\n",
    "from threading import Thread\n",
    "\n",
    "import matplotlib.pyplot as plt\n",
    "import matplotlib.dates as mdates\n",
    "from matplotlib.pyplot import figure\n",
    "\n",
    "#from mpl_finance import candlestick_ochl\n",
    "\n",
    "#from sklearn import preprocessing,model_selection,neighbors,svm\n",
    "#from sklearn.preprocessing import StandardScaler, RobustScaler, MaxAbsScaler\n",
    "#from sklearn.metrics import accuracy_score, mean_squared_error, mean_absolute_error\n",
    "\n",
    "#from catboost import CatBoostClassifier, CatBoostRegressor, Pool, cv\n",
    "\n",
    "from tqdm import tqdm as tqdm\n",
    "\n",
    "from ta import add_all_ta_features\n",
    "\n",
    "from binance.client import Client\n",
    "from binance import BinanceSocketManager"
   ]
  },
  {
   "cell_type": "code",
   "execution_count": 3,
   "metadata": {},
   "outputs": [],
   "source": [
    "api_id = \"\"\n",
    "api_key = \"\"\n",
    "    \n",
    "client = Client(api_id,api_key)\n",
    "    \n",
    "bsm =BinanceSocketManager(client)\n",
    "    \n",
    "socket = bsm.trade_socket(\"BTCUSDT\")\n",
    "\n"
   ]
  },
  {
   "cell_type": "code",
   "execution_count": null,
   "metadata": {},
   "outputs": [],
   "source": []
  },
  {
   "cell_type": "code",
   "execution_count": 4,
   "metadata": {},
   "outputs": [
    {
     "name": "stdout",
     "output_type": "stream",
     "text": [
      "2021-08-21 14:00:07.107666\n"
     ]
    }
   ],
   "source": [
    "print(datetime.now())"
   ]
  },
  {
   "cell_type": "markdown",
   "metadata": {},
   "source": [
    "# Indikatörler"
   ]
  },
  {
   "cell_type": "code",
   "execution_count": 5,
   "metadata": {},
   "outputs": [],
   "source": [
    "def exponential_moving_average(df, n):\n",
    "  EMA = pd.Series(df['Close'].ewm(span=n, min_periods=n).mean(), name=\"EMA_\" + str(n))\n",
    "  df = df.join(EMA)\n",
    "  return df"
   ]
  },
  {
   "cell_type": "code",
   "execution_count": 6,
   "metadata": {},
   "outputs": [],
   "source": [
    "def moving_average(df,n):\n",
    "    MA = pd.Series(df[\"Close\"].rolling(n,min_periods=n).mean(),name=\"MA_\"+str(n))\n",
    "    df = df.join(MA)\n",
    "    return df"
   ]
  },
  {
   "cell_type": "code",
   "execution_count": 7,
   "metadata": {},
   "outputs": [],
   "source": [
    "def momentum(df, n):\n",
    "  M = pd.Series(df['Close'].diff(n), name=\"Momentum_\"+str(n))\n",
    "  df = df.join(M)\n",
    "  return df"
   ]
  },
  {
   "cell_type": "code",
   "execution_count": 8,
   "metadata": {},
   "outputs": [],
   "source": [
    "def bollinger_bands(df, n):\n",
    "  MA = pd.Series(df['Close'].rolling(n, min_periods=n).mean())\n",
    "  MSD = pd.Series(df['Close'].rolling(n, min_periods=n).std())\n",
    "  b1 = 4 * MSD / MA\n",
    "  B1 = pd.Series(b1, name = \"BollingerB_\" + str(n))\n",
    "  df = df.join(B1)\n",
    "  b2 = (df['Close'] - MA  + 2 * MSD) / (4 * MSD)\n",
    "  B2 = pd.Series(b2, name='Bollinger%b_'+str(n))\n",
    "  df = df.join(B2)\n",
    "  return df"
   ]
  },
  {
   "cell_type": "code",
   "execution_count": 9,
   "metadata": {},
   "outputs": [],
   "source": [
    "def stochastic_oscillator(df ,n):\n",
    "  S0K = pd.Series((df['Close']- df['Low']) / (df['High']-df['Low']), name='S0k_' + str(n))\n",
    "  df = df.join(S0K)\n",
    "  return df"
   ]
  },
  {
   "cell_type": "code",
   "execution_count": 10,
   "metadata": {},
   "outputs": [],
   "source": [
    "def relative_strength_index(df, n):\n",
    "  i = 0\n",
    "  UpI = [0]\n",
    "  DoI = [0]\n",
    "\n",
    "  while i + 1 <= df.index[-1]:\n",
    "    UpMove = df.loc[i+1, 'High'] - df.loc[i, 'High']\n",
    "    DoMove = df.loc[i+1, 'Low'] - df.loc[i, 'Low']\n",
    "    if UpMove > DoMove and UpMove > 0:\n",
    "      UpD = UpMove\n",
    "    else:\n",
    "      UpD = 0\n",
    "    UpI.append(UpD)\n",
    "    if DoMove > UpMove and DoMove > 0:\n",
    "      DoD = DoMove\n",
    "    else:\n",
    "      DoD = 0\n",
    "    DoI.append(DoD)\n",
    "    i = i + 1\n",
    "\n",
    "  UpI = pd.Series(UpI)\n",
    "  DoI = pd.Series(DoI)\n",
    "  PosDI = pd.Series(UpI.ewm(span=n, min_periods=n).mean())\n",
    "  NegDI = pd.Series(DoI.ewm(span=n, min_periods=n).mean())\n",
    "  RSI = pd.Series(PosDI / (PosDI + NegDI), name='RSI_' + str(n))\n",
    "  df = df.join(RSI)\n",
    "  return df"
   ]
  },
  {
   "cell_type": "code",
   "execution_count": 11,
   "metadata": {},
   "outputs": [],
   "source": [
    "def common_channel_index(df, n):\n",
    "  PP = (df['High'] + df['Low'] + df['Close']) / 3\n",
    "  CCI = pd.Series((PP - PP.rolling(n, min_periods=n).mean()) / PP.rolling(n, min_periods=n).std(), name='CCI_' + str(n))\n",
    "  df = df.join(CCI)\n",
    "  return df"
   ]
  },
  {
   "cell_type": "code",
   "execution_count": 12,
   "metadata": {},
   "outputs": [],
   "source": [
    "def standart_deviation(df, n):\n",
    "  df = df.join(pd.Series(df['Close'].rolling(n, min_periods=n).std(), name='STD_' + str(n)))\n",
    "  return df"
   ]
  },
  {
   "cell_type": "markdown",
   "metadata": {},
   "source": [
    "# Binance Yardımcı Fonksiyonlar\n"
   ]
  },
  {
   "cell_type": "code",
   "execution_count": 13,
   "metadata": {},
   "outputs": [],
   "source": [
    "def binanceDataFrame(klines):\n",
    "  df = pd.DataFrame(klines.reshape(-1,12), dtype=float, columns=['Open Time',\n",
    "                                                                 'Open',\n",
    "                                                                 'High',\n",
    "                                                                 'Low',\n",
    "                                                                 'Close',\n",
    "                                                                 'Volume',\n",
    "                                                                 'Close Time',\n",
    "                                                                 'Quote asset volume',\n",
    "                                                                 'Number of trades',\n",
    "                                                                 'Taker buy base asset volume',\n",
    "                                                                 'Taker buy quote asset volume',\n",
    "                                                                 'Can be ignored']);\n",
    "\n",
    "  df['Open Time'] = pd.to_datetime(df['Open Time'], unit='ms')\n",
    "  df['Close Time'] = pd.to_datetime(df['Close Time'], unit='ms')\n",
    "\n",
    "  return df"
   ]
  },
  {
   "cell_type": "code",
   "execution_count": 14,
   "metadata": {},
   "outputs": [],
   "source": [
    "def date_to_miliseconds(date_str):\n",
    "  epoch = datetime.utcfromtimestamp(0).replace(tzinfo=pytz.utc)\n",
    "  d = dateparser.parse(date_str)\n",
    "  if d.tzinfo is None or d.tzinfo.utcoffset(d) is None:\n",
    "    d = d.replace(tzinfo=pytz.utc)\n",
    "\n",
    "  #return difference in time\n",
    "  return int((d - epoch).total_seconds()*1000.0)"
   ]
  },
  {
   "cell_type": "code",
   "execution_count": 15,
   "metadata": {},
   "outputs": [],
   "source": [
    "def interval_to_miliseconds(interval):\n",
    "  ms = None\n",
    "  seconds_per_unit = {\n",
    "      \"m\": 60,\n",
    "      \"h\": 60 * 60,\n",
    "      \"d\": 24 * 60 * 60,\n",
    "      \"w\": 7 * 24 * 60 * 60,\n",
    "  }\n",
    "\n",
    "  unit = interval[-1]\n",
    "  if unit in seconds_per_unit:\n",
    "    try:\n",
    "      ms = int(interval[:-1]) * seconds_per_unit[unit] * 1000\n",
    "    except:\n",
    "      pass\n",
    "\n",
    "  return ms"
   ]
  },
  {
   "cell_type": "code",
   "execution_count": 16,
   "metadata": {},
   "outputs": [],
   "source": [
    "def get_historical_klines(symbol, interval, start_str, end_str=None):\n",
    "  output_data=[]\n",
    "  limit=500\n",
    "  timeFrame = interval_to_miliseconds(interval)\n",
    "  start_ts = date_to_miliseconds(start_str)\n",
    "  end_ts = None\n",
    "  if end_str:\n",
    "    end_ts = date_to_miliseconds(end_str)\n",
    "  \n",
    "  idx = 0\n",
    "  symbol_existed = False\n",
    "  while True:\n",
    "    #fetch\n",
    "    temp_data = client.get_klines(symbol = symbol, \n",
    "                                  interval = interval, \n",
    "                                  limit = limit, \n",
    "                                  startTime = start_ts, \n",
    "                                  endTime = end_ts)\n",
    "    \n",
    "    if not symbol_existed and len(temp_data):\n",
    "      symbol_existed = True\n",
    "\n",
    "    if symbol_existed:\n",
    "      output_data += temp_data\n",
    "\n",
    "      start_ts = temp_data[len(temp_data) - 1][0] + timeFrame\n",
    "\n",
    "    idx += 1\n",
    "\n",
    "    if len(temp_data)<limit:\n",
    "      break\n",
    "\n",
    "    if idx % 3 == 0:\n",
    "      time.sleep(1)\n",
    "\n",
    "  return output_data"
   ]
  },
  {
   "cell_type": "markdown",
   "metadata": {},
   "source": [
    "##  Sat-Satın al For Backtest"
   ]
  },
  {
   "cell_type": "code",
   "execution_count": 17,
   "metadata": {},
   "outputs": [],
   "source": [
    "def satinal(bakiye,harcananpara,price):\n",
    "  alinanmiktar = harcananpara/price\n",
    "  kalanbakiye = bakiye - harcananpara\n",
    "  return kalanbakiye,alinanmiktar"
   ]
  },
  {
   "cell_type": "code",
   "execution_count": 18,
   "metadata": {},
   "outputs": [],
   "source": [
    "def sat(bakiye,satilanmiktar,price):\n",
    "  eldeedilenpara = satilanmiktar*price\n",
    "  mevcutbakiye = bakiye + eldeedilenpara\n",
    "  return mevcutbakiye"
   ]
  },
  {
   "cell_type": "markdown",
   "metadata": {},
   "source": [
    "# 2 MA Stratejisi ile al-sat"
   ]
  },
  {
   "cell_type": "code",
   "execution_count": 31,
   "metadata": {},
   "outputs": [
    {
     "name": "stdout",
     "output_type": "stream",
     "text": [
      "Wall time: 938 ms\n"
     ]
    }
   ],
   "source": [
    "%%time\n",
    "#tarih aralıgını buradan ayarlıyoruz\n",
    "symbol = \"BTCUSDT\"\n",
    "start = \"14 Apr, 2021\"\n",
    "end = \"24 May, 2021\"\n",
    "\n",
    "\n",
    "interval2 = Client.KLINE_INTERVAL_1HOUR\n",
    "klines2 = get_historical_klines(symbol,interval2,start,end)\n",
    "klines2 = np.array(klines2)\n",
    "df = binanceDataFrame(klines2)\n",
    "\n",
    "\n",
    "remove_cols = [c for c in df.columns if c not in ['Open Time','Close Time','Open','Close','High','Low','Volume']]\n",
    "df.drop(remove_cols, axis=1, inplace=True)\n",
    "\n",
    "\n",
    "df = moving_average(df,5)\n",
    "df = moving_average(df,10)\n",
    "\n",
    "df.drop(index=df.index[:10], \n",
    "        axis=0, \n",
    "        inplace=True)"
   ]
  },
  {
   "cell_type": "code",
   "execution_count": 32,
   "metadata": {},
   "outputs": [],
   "source": [
    "## Binance'dan Verileri Alma ve Düzenleme"
   ]
  },
  {
   "cell_type": "markdown",
   "metadata": {},
   "source": [
    "## Backtest Yapma"
   ]
  },
  {
   "cell_type": "code",
   "execution_count": 33,
   "metadata": {},
   "outputs": [
    {
     "name": "stdout",
     "output_type": "stream",
     "text": [
      "55336.14 dan alım yapıldı mevcut bakiye  10.0 ma5 =  55926.124000000025 ma10 =  55295.703  tarih  2021-04-20 14:59:59.999000\n",
      "53787.63 dan satış yapıldı mevcut bakiye  9.720162989323072 ma5 =  54593.153999999995 ma10 =  55187.779999999984  tarih  2021-04-21 23:59:59.999000\n",
      "50667.75 dan alım yapıldı mevcut bakiye  9.720162989323072 ma5 =  50291.57599999997 ma10 =  49792.186000000016  tarih  2021-04-24 19:59:59.999000\n",
      "47598.87 dan satış yapıldı mevcut bakiye  9.131425305201045 ma5 =  48914.213999999956 ma10 =  49529.266000000025  tarih  2021-04-25 21:59:59.999000\n",
      "51969.24 dan alım yapıldı mevcut bakiye  9.131425305201045 ma5 =  50509.08599999995 ma10 =  49711.65000000002  tarih  2021-04-26 02:59:59.999000\n",
      "55695.16 dan satış yapıldı mevcut bakiye  9.786100266257908 ma5 =  56226.36999999995 ma10 =  56831.39300000002  tarih  2021-05-04 02:59:59.999000\n",
      "57636.74 dan alım yapıldı mevcut bakiye  9.786100266257908 ma5 =  56309.74999999994 ma10 =  55724.06500000002  tarih  2021-05-05 15:59:59.999000\n",
      "55913.75 dan satış yapıldı mevcut bakiye  9.493555044273464 ma5 =  56258.153999999944 ma10 =  56840.867000000006  tarih  2021-05-06 20:59:59.999000\n",
      "58300.0 dan alım yapıldı mevcut bakiye  9.493555044273464 ma5 =  57481.09599999995 ma10 =  56835.508999999984  tarih  2021-05-07 16:59:59.999000\n",
      "55240.88 dan satış yapıldı mevcut bakiye  8.995408833175045 ma5 =  56460.827999999936 ma10 =  57083.313  tarih  2021-05-10 20:59:59.999000\n",
      "50015.76 dan alım yapıldı mevcut bakiye  8.995408833175045 ma5 =  49627.83399999993 ma10 =  49095.672000000006  tarih  2021-05-14 01:59:59.999000\n",
      "49841.45 dan satış yapıldı mevcut bakiye  8.964058920393338 ma5 =  49768.99999999994 ma10 =  50277.919  tarih  2021-05-14 23:59:59.999000\n",
      "49375.28 dan alım yapıldı mevcut bakiye  8.964058920393338 ma5 =  48615.06799999997 ma10 =  48129.645000000004  tarih  2021-05-16 07:59:59.999000\n",
      "47276.26 dan satış yapıldı mevcut bakiye  8.582982824114309 ma5 =  48165.237999999976 ma10 =  48696.087000000014  tarih  2021-05-16 16:59:59.999000\n",
      "44539.0 dan alım yapıldı mevcut bakiye  8.582982824114309 ma5 =  44948.22799999998 ma10 =  44472.53500000001  tarih  2021-05-17 10:59:59.999000\n",
      "42567.28 dan satış yapıldı mevcut bakiye  8.20301832347526 ma5 =  44063.83199999998 ma10 =  44646.824000000015  tarih  2021-05-17 16:59:59.999000\n",
      "45318.97 dan alım yapıldı mevcut bakiye  8.20301832347526 ma5 =  44915.21999999998 ma10 =  44348.11300000001  tarih  2021-05-18 04:59:59.999000\n",
      "42969.47 dan satış yapıldı mevcut bakiye  7.777744060820898 ma5 =  43831.716 ma10 =  44447.57500000001  tarih  2021-05-18 15:59:59.999000\n",
      "39342.93 dan alım yapıldı mevcut bakiye  7.777744060820897 ma5 =  38714.75199999999 ma10 =  38032.50300000001  tarih  2021-05-19 19:59:59.999000\n",
      "35817.31 dan satış yapıldı mevcut bakiye  7.080760637987077 ma5 =  37717.346 ma10 =  38216.049000000006  tarih  2021-05-20 00:59:59.999000\n",
      "39938.91 dan alım yapıldı mevcut bakiye  7.080760637987077 ma5 =  38546.06800000001 ma10 =  38131.707  tarih  2021-05-20 05:59:59.999000\n",
      "40116.04 dan satış yapıldı mevcut bakiye  7.112163977031799 ma5 =  40091.584 ma10 =  40618.572  tarih  2021-05-20 19:59:59.999000\n",
      "41429.68 dan alım yapıldı mevcut bakiye  7.1121639770318 ma5 =  41164.424000000006 ma10 =  40484.00299999999  tarih  2021-05-21 01:59:59.999000\n",
      "39842.57 dan satış yapıldı mevcut bakiye  6.839707453843908 ma5 =  40172.89200000001 ma10 =  40724.643000000004  tarih  2021-05-21 07:59:59.999000\n",
      "41112.03 dan alım yapıldı mevcut bakiye  6.839707453843908 ma5 =  40871.84 ma10 =  40458.096999999994  tarih  2021-05-21 13:59:59.999000\n",
      "36794.57 dan satış yapıldı mevcut bakiye  6.121422237967365 ma5 =  39475.232 ma10 =  39942.268  tarih  2021-05-21 15:59:59.999000\n",
      "37382.96 dan alım yapıldı mevcut bakiye  6.121422237967365 ma5 =  37314.806 ma10 =  36892.155000000006  tarih  2021-05-22 02:59:59.999000\n",
      "36269.28 dan satış yapıldı mevcut bakiye  5.939058254003027 ma5 =  36462.806 ma10 =  36888.806000000004  tarih  2021-05-22 07:59:59.999000\n",
      "38151.81 dan alım yapıldı mevcut bakiye  5.939058254003027 ma5 =  37725.39200000001 ma10 =  37094.099  tarih  2021-05-22 12:59:59.999000\n",
      "35927.69 dan satış yapıldı mevcut bakiye  5.592831476193712 ma5 =  36816.28600000001 ma10 =  37272.261999999995  tarih  2021-05-23 07:59:59.999000\n",
      "34655.25 dan alım yapıldı mevcut bakiye  5.592831476193712 ma5 =  33835.46800000001 ma10 =  33386.99699999999  tarih  2021-05-23 23:59:59.999000\n",
      "5.679357950420886\n"
     ]
    }
   ],
   "source": [
    "bakiye = 10.0\n",
    "malmiktar = 0.0\n",
    "maldayiz = False\n",
    "karsayısı = 0\n",
    "zararsayısı = 0\n",
    "trendsayısı = 0\n",
    "\n",
    "#urunu kac dolarlık alıyosun buradan belirleyebilirsin \n",
    "alimmiktari = 10.0\n",
    "#işleme gırmek ıcın ma5 ma10'un ne kadar ustunde veya altında olmalı burada belırlıyoruz\n",
    "fark_orani = 10/1000\n",
    "\n",
    "for i in range(1,df.index.size - 1):\n",
    "  low1 = df.iloc[i][\"Low\"]\n",
    "  high1 = df.iloc[i][\"High\"]\n",
    "  open1 = df.iloc[i][\"Open\"]\n",
    "  close1 = df.iloc[i][\"Close\"]\n",
    "  ma5 = df.iloc[i][\"MA_5\"]\n",
    "  ma10 = df.iloc[i][\"MA_10\"]\n",
    "  tarih = df.iloc[i][\"Close Time\"] \n",
    "\n",
    "  if(ma5 > ma10 + ma10*fark_orani and maldayiz == False):\n",
    "        #alım miktarını kumulatif degılde manuel sabıt bır mıktar olsun dersen alt satırdakı parantez ıcınde yazan 2.bakiye yerine alimmiktari yaz\n",
    "        #suan 1 saatlıkte bir mum ma5 ma10'un ustunde kalacak sekılde kapandıysa satın alım yapıyoruz.tekrar acıklıyorum ma5 ma10'un ustune gectıgı anda degıl ma10'un ustunde bır mum kapattıgı zaman alım yapıyoruz\n",
    "        bakiye,malmiktar = satinal(bakiye,bakiye,close1)\n",
    "        maldayiz = True\n",
    "        print(close1,\"dan alım yapıldı mevcut bakiye \",close1*malmiktar,\"ma5 = \",ma5,\"ma10 = \",ma10,\" tarih \",tarih)\n",
    "  elif(ma5 + ma5*fark_orani < ma10 and maldayiz == True):\n",
    "        #1 saatlikte ma5 ma10'un altında mum kapanısı geldıgı zaman satıs yapıyor\n",
    "        bakiye = sat(bakiye,malmiktar,close1)\n",
    "        maldayiz = False\n",
    "        print(close1,\"dan satış yapıldı mevcut bakiye \",bakiye,\"ma5 = \",ma5,\"ma10 = \",ma10,\" tarih \",tarih)\n",
    "if(malmiktar == 0):\n",
    "    print(\"en son bakiye \",bakiye)\n",
    "else:\n",
    "    print(malmiktar*df.iloc[df.index.size - 1][\"Close\"])"
   ]
  },
  {
   "cell_type": "markdown",
   "metadata": {},
   "source": [
    "# 3 Ema İle Güncel Olarak Al-Sat Yapma"
   ]
  },
  {
   "cell_type": "code",
   "execution_count": null,
   "metadata": {
    "scrolled": false
   },
   "outputs": [],
   "source": [
    "\n",
    "\n",
    "    "
   ]
  },
  {
   "cell_type": "code",
   "execution_count": null,
   "metadata": {},
   "outputs": [],
   "source": []
  }
 ],
 "metadata": {
  "kernelspec": {
   "display_name": "Python 3",
   "language": "python",
   "name": "python3"
  },
  "language_info": {
   "codemirror_mode": {
    "name": "ipython",
    "version": 3
   },
   "file_extension": ".py",
   "mimetype": "text/x-python",
   "name": "python",
   "nbconvert_exporter": "python",
   "pygments_lexer": "ipython3",
   "version": "3.8.5"
  }
 },
 "nbformat": 4,
 "nbformat_minor": 4
}
